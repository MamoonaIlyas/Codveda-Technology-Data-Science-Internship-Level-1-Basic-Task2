{
  "nbformat": 4,
  "nbformat_minor": 0,
  "metadata": {
    "colab": {
      "provenance": []
    },
    "kernelspec": {
      "name": "python3",
      "display_name": "Python 3"
    },
    "language_info": {
      "name": "python"
    }
  },
  "cells": [
    {
      "cell_type": "markdown",
      "source": [
        " Description: Clean and preprocess a raw dataset to\n",
        " make it suitable for analysis"
      ],
      "metadata": {
        "id": "qE_IKzjXFDGa"
      }
    },
    {
      "cell_type": "code",
      "source": [
        "import pandas as pd\n",
        "\n",
        "df = pd.read_csv('https://raw.githubusercontent.com/selva86/datasets/master/BostonHousing.csv')\n",
        "print(df.columns)\n"
      ],
      "metadata": {
        "colab": {
          "base_uri": "https://localhost:8080/"
        },
        "id": "GU0YO-XVwsre",
        "outputId": "c2155d1c-f347-4472-fc99-75c67e0d2383"
      },
      "execution_count": 21,
      "outputs": [
        {
          "output_type": "stream",
          "name": "stdout",
          "text": [
            "Index(['crim', 'zn', 'indus', 'chas', 'nox', 'rm', 'age', 'dis', 'rad', 'tax',\n",
            "       'ptratio', 'b', 'lstat', 'medv'],\n",
            "      dtype='object')\n"
          ]
        }
      ]
    },
    {
      "cell_type": "markdown",
      "source": [
        "Handle missing data (e.g., imputation, removal)"
      ],
      "metadata": {
        "id": "iYUxGHTZEroH"
      }
    },
    {
      "cell_type": "code",
      "source": [
        "#Show basic info and check for missing values\n",
        "print(\"\\n--- Missing Value Check ---\")\n",
        "print(df.isnull().sum())\n",
        "\n",
        "# Option 1: Remove rows with missing values (if few missing entries)\n",
        "df_dropna = df.dropna()\n",
        "print(f\"\\nAfter dropping missing rows: {df_dropna.shape[0]} rows remaining.\")\n",
        "\n",
        "# Option 2: Impute missing values with mean (for numeric columns)\n",
        "df_imputed = df.fillna(df.mean(numeric_only=True))\n",
        "print(\"\\nMissing values after mean imputation:\")\n",
        "print(df_imputed.isnull().sum())\n",
        "\n",
        "# Optional: View updated dataset\n",
        "print(\"\\n--- Preview of Imputed Dataset ---\")\n",
        "print(df_imputed.head())"
      ],
      "metadata": {
        "colab": {
          "base_uri": "https://localhost:8080/"
        },
        "id": "KekmJBcHxrEZ",
        "outputId": "da8686f0-5494-45a9-f166-a36bf34c2a75"
      },
      "execution_count": 17,
      "outputs": [
        {
          "output_type": "stream",
          "name": "stdout",
          "text": [
            "\n",
            "--- Missing Value Check ---\n",
            "crim       0\n",
            "zn         0\n",
            "indus      0\n",
            "chas       0\n",
            "nox        0\n",
            "rm         0\n",
            "age        0\n",
            "dis        0\n",
            "rad        0\n",
            "tax        0\n",
            "ptratio    0\n",
            "b          0\n",
            "lstat      0\n",
            "medv       0\n",
            "dtype: int64\n",
            "\n",
            "After dropping missing rows: 506 rows remaining.\n",
            "\n",
            "Missing values after mean imputation:\n",
            "crim       0\n",
            "zn         0\n",
            "indus      0\n",
            "chas       0\n",
            "nox        0\n",
            "rm         0\n",
            "age        0\n",
            "dis        0\n",
            "rad        0\n",
            "tax        0\n",
            "ptratio    0\n",
            "b          0\n",
            "lstat      0\n",
            "medv       0\n",
            "dtype: int64\n",
            "\n",
            "--- Preview of Imputed Dataset ---\n",
            "      crim    zn  indus  chas    nox     rm   age     dis  rad  tax  ptratio  \\\n",
            "0  0.00632  18.0   2.31     0  0.538  6.575  65.2  4.0900    1  296     15.3   \n",
            "1  0.02731   0.0   7.07     0  0.469  6.421  78.9  4.9671    2  242     17.8   \n",
            "2  0.02729   0.0   7.07     0  0.469  7.185  61.1  4.9671    2  242     17.8   \n",
            "3  0.03237   0.0   2.18     0  0.458  6.998  45.8  6.0622    3  222     18.7   \n",
            "4  0.06905   0.0   2.18     0  0.458  7.147  54.2  6.0622    3  222     18.7   \n",
            "\n",
            "        b  lstat  medv  \n",
            "0  396.90   4.98  24.0  \n",
            "1  396.90   9.14  21.6  \n",
            "2  392.83   4.03  34.7  \n",
            "3  394.63   2.94  33.4  \n",
            "4  396.90   5.33  36.2  \n"
          ]
        }
      ]
    },
    {
      "cell_type": "markdown",
      "source": [
        " Detect and remove outliers."
      ],
      "metadata": {
        "id": "rg5Q8huyEtq_"
      }
    },
    {
      "cell_type": "code",
      "source": [
        "# --- Detect & Remove Outliers using IQR method ---\n",
        "Q1 = df.quantile(0.25)\n",
        "Q3 = df.quantile(0.75)\n",
        "IQR = Q3 - Q1\n",
        "\n",
        "# Define lower and upper bounds\n",
        "lower_bound = Q1 - 1.5 * IQR\n",
        "upper_bound = Q3 + 1.5 * IQR\n",
        "\n",
        "# Filter out the outliers\n",
        "df_no_outliers = df[~((df < lower_bound) | (df > upper_bound)).any(axis=1)]\n",
        "\n",
        "# Print before and after shape\n",
        "print(f\"Original shape: {df.shape}\")\n",
        "print(f\"After removing outliers: {df_no_outliers.shape}\")\n",
        "\n",
        "# Optional: preview cleaned data\n",
        "print(\"\\n--- Preview of dataset without outliers ---\")\n",
        "print(df_no_outliers.head())"
      ],
      "metadata": {
        "colab": {
          "base_uri": "https://localhost:8080/"
        },
        "id": "bPgCvgzwyJFE",
        "outputId": "5038e457-5059-401d-d4f0-bf9988ecb3cb"
      },
      "execution_count": 18,
      "outputs": [
        {
          "output_type": "stream",
          "name": "stdout",
          "text": [
            "Original shape: (506, 14)\n",
            "After removing outliers: (268, 14)\n",
            "\n",
            "--- Preview of dataset without outliers ---\n",
            "      crim    zn  indus  chas    nox     rm   age     dis  rad  tax  ptratio  \\\n",
            "0  0.00632  18.0   2.31     0  0.538  6.575  65.2  4.0900    1  296     15.3   \n",
            "1  0.02731   0.0   7.07     0  0.469  6.421  78.9  4.9671    2  242     17.8   \n",
            "2  0.02729   0.0   7.07     0  0.469  7.185  61.1  4.9671    2  242     17.8   \n",
            "3  0.03237   0.0   2.18     0  0.458  6.998  45.8  6.0622    3  222     18.7   \n",
            "4  0.06905   0.0   2.18     0  0.458  7.147  54.2  6.0622    3  222     18.7   \n",
            "\n",
            "        b  lstat  medv  \n",
            "0  396.90   4.98  24.0  \n",
            "1  396.90   9.14  21.6  \n",
            "2  392.83   4.03  34.7  \n",
            "3  394.63   2.94  33.4  \n",
            "4  396.90   5.33  36.2  \n"
          ]
        }
      ]
    },
    {
      "cell_type": "markdown",
      "source": [
        " Convert categorical variables into numerical format\n",
        " using one-hot encoding or label encoding"
      ],
      "metadata": {
        "id": "3MX6PW5QE2Un"
      }
    },
    {
      "cell_type": "code",
      "source": [
        "from sklearn.preprocessing import LabelEncoder\n",
        "\n",
        "# Simulate 'rad' as categorical\n",
        "df['rad'] = df['rad'].astype(str)\n",
        "\n",
        "# --- Label Encoding ---\n",
        "le = LabelEncoder()\n",
        "df['rad_encoded'] = le.fit_transform(df['rad'])\n",
        "\n",
        "# --- One-Hot Encoding ---\n",
        "df_onehot = pd.get_dummies(df, columns=['rad'], prefix='rad')\n",
        "\n",
        "# Output\n",
        "print(\"\\n--- Label Encoded 'rad' ---\")\n",
        "print(df[['rad_encoded']].head())\n",
        "\n",
        "print(\"\\n--- One-Hot Encoded 'rad' Columns ---\")\n",
        "print(df_onehot.filter(like='rad_').head())\n"
      ],
      "metadata": {
        "colab": {
          "base_uri": "https://localhost:8080/"
        },
        "id": "g8v2L0sCykcl",
        "outputId": "70d776cf-9454-40a5-bbc6-18cee3556acb"
      },
      "execution_count": 22,
      "outputs": [
        {
          "output_type": "stream",
          "name": "stdout",
          "text": [
            "\n",
            "--- Label Encoded 'rad' ---\n",
            "   rad_encoded\n",
            "0            0\n",
            "1            1\n",
            "2            1\n",
            "3            3\n",
            "4            3\n",
            "\n",
            "--- One-Hot Encoded 'rad' Columns ---\n",
            "   rad_encoded  rad_1  rad_2  rad_24  rad_3  rad_4  rad_5  rad_6  rad_7  rad_8\n",
            "0            0   True  False   False  False  False  False  False  False  False\n",
            "1            1  False   True   False  False  False  False  False  False  False\n",
            "2            1  False   True   False  False  False  False  False  False  False\n",
            "3            3  False  False   False   True  False  False  False  False  False\n",
            "4            3  False  False   False   True  False  False  False  False  False\n"
          ]
        }
      ]
    },
    {
      "cell_type": "markdown",
      "source": [
        " Normalize or standardize numerical data"
      ],
      "metadata": {
        "id": "jhRExbc6E7pq"
      }
    },
    {
      "cell_type": "code",
      "source": [
        "from sklearn.preprocessing import MinMaxScaler, StandardScaler\n",
        "\n",
        "# --- Separate features (X) and target (y) ---\n",
        "X = df.drop('medv', axis=1)   # features\n",
        "y = df['medv']                # target\n",
        "\n",
        "# --- Normalization ---\n",
        "minmax_scaler = MinMaxScaler()\n",
        "X_normalized = pd.DataFrame(minmax_scaler.fit_transform(X), columns=X.columns)\n",
        "\n",
        "# --- Standardization ---\n",
        "standard_scaler = StandardScaler()\n",
        "X_standardized = pd.DataFrame(standard_scaler.fit_transform(X), columns=X.columns)\n",
        "\n",
        "# Preview results\n",
        "print(\"\\n--- Normalized Data ---\")\n",
        "print(X_normalized.head())\n",
        "\n",
        "print(\"\\n--- Standardized Data ---\")\n",
        "print(X_standardized.head())\n"
      ],
      "metadata": {
        "colab": {
          "base_uri": "https://localhost:8080/"
        },
        "id": "sn2kIDRJz9jK",
        "outputId": "df49c7e1-7bce-414a-89d7-bb68f69950a0"
      },
      "execution_count": 23,
      "outputs": [
        {
          "output_type": "stream",
          "name": "stdout",
          "text": [
            "\n",
            "--- Normalized Data ---\n",
            "       crim    zn     indus  chas       nox        rm       age       dis  \\\n",
            "0  0.000000  0.18  0.067815   0.0  0.314815  0.577505  0.641607  0.269203   \n",
            "1  0.000236  0.00  0.242302   0.0  0.172840  0.547998  0.782698  0.348962   \n",
            "2  0.000236  0.00  0.242302   0.0  0.172840  0.694386  0.599382  0.348962   \n",
            "3  0.000293  0.00  0.063050   0.0  0.150206  0.658555  0.441813  0.448545   \n",
            "4  0.000705  0.00  0.063050   0.0  0.150206  0.687105  0.528321  0.448545   \n",
            "\n",
            "        rad       tax   ptratio         b     lstat  rad_encoded  \n",
            "0  0.000000  0.208015  0.287234  1.000000  0.089680        0.000  \n",
            "1  0.043478  0.104962  0.553191  1.000000  0.204470        0.125  \n",
            "2  0.043478  0.104962  0.553191  0.989737  0.063466        0.125  \n",
            "3  0.086957  0.066794  0.648936  0.994276  0.033389        0.375  \n",
            "4  0.086957  0.066794  0.648936  1.000000  0.099338        0.375  \n",
            "\n",
            "--- Standardized Data ---\n",
            "       crim        zn     indus      chas       nox        rm       age  \\\n",
            "0 -0.419782  0.284830 -1.287909 -0.272599 -0.144217  0.413672 -0.120013   \n",
            "1 -0.417339 -0.487722 -0.593381 -0.272599 -0.740262  0.194274  0.367166   \n",
            "2 -0.417342 -0.487722 -0.593381 -0.272599 -0.740262  1.282714 -0.265812   \n",
            "3 -0.416750 -0.487722 -1.306878 -0.272599 -0.835284  1.016303 -0.809889   \n",
            "4 -0.412482 -0.487722 -1.306878 -0.272599 -0.835284  1.228577 -0.511180   \n",
            "\n",
            "        dis       rad       tax   ptratio         b     lstat  rad_encoded  \n",
            "0  0.140214 -0.982843 -0.666608 -1.459000  0.441052 -1.075562    -1.963621  \n",
            "1  0.557160 -0.867883 -0.987329 -0.303094  0.441052 -0.492439    -1.436237  \n",
            "2  0.557160 -0.867883 -0.987329 -0.303094  0.396427 -1.208727    -1.436237  \n",
            "3  1.077737 -0.752922 -1.106115  0.113032  0.416163 -1.361517    -0.381468  \n",
            "4  1.077737 -0.752922 -1.106115  0.113032  0.441052 -1.026501    -0.381468  \n"
          ]
        }
      ]
    },
    {
      "cell_type": "markdown",
      "source": [
        "TASK: Data Cleaning and\n",
        " Preprocessing (Full Code)"
      ],
      "metadata": {
        "id": "jLgFXypGE90h"
      }
    },
    {
      "cell_type": "code",
      "source": [
        "import pandas as pd\n",
        "from sklearn.preprocessing import LabelEncoder, MinMaxScaler, StandardScaler\n",
        "\n",
        "# Load the dataset\n",
        "url = \"https://raw.githubusercontent.com/selva86/datasets/master/BostonHousing.csv\"\n",
        "df = pd.read_csv(url)\n",
        "\n",
        "print(\"\\n--- Step 1: Original Dataset Info ---\")\n",
        "print(df.info())\n",
        "\n",
        "# ========== Step 1: Handle Missing Data ==========\n",
        "\n",
        "# Check for missing values\n",
        "print(\"\\n--- Step 2: Checking Missing Values ---\")\n",
        "print(df.isnull().sum())\n",
        "\n",
        "# Impute missing values with mean (if any)\n",
        "df = df.fillna(df.mean(numeric_only=True))\n",
        "\n",
        "\n",
        "# ========== Step 2: Remove Outliers (IQR method) ==========\n",
        "\n",
        "Q1 = df.quantile(0.25)\n",
        "Q3 = df.quantile(0.75)\n",
        "IQR = Q3 - Q1\n",
        "\n",
        "# Define lower and upper bounds for outliers\n",
        "lower_bound = Q1 - 1.5 * IQR\n",
        "upper_bound = Q3 + 1.5 * IQR\n",
        "\n",
        "# Filter out rows that have outliers in any column\n",
        "df = df[~((df < lower_bound) | (df > upper_bound)).any(axis=1)]\n",
        "\n",
        "print(f\"\\n--- Step 3: Dataset shape after removing outliers: {df.shape} ---\")\n",
        "\n",
        "\n",
        "# ========== Step 3: Encode Categorical Variables ==========\n",
        "\n",
        "# 'chas' is a binary categorical variable (0 or 1), already numerical.\n",
        "# Simulate 'rad' as categorical for encoding purposes\n",
        "df['rad'] = df['rad'].astype(str)  # Treat 'rad' as categorical\n",
        "\n",
        "# Label Encoding for 'rad'\n",
        "le = LabelEncoder()\n",
        "df['rad_encoded'] = le.fit_transform(df['rad'])\n",
        "\n",
        "# Optional: One-Hot Encoding (instead of label encoding)\n",
        "df = pd.get_dummies(df, columns=['rad'], prefix='rad')\n",
        "\n",
        "print(\"\\n--- Step 4: Categorical Encoding Done ---\")\n",
        "print(df.head())\n",
        "\n",
        "\n",
        "# ========== Step 4: Normalize or Standardize Data ==========\n",
        "\n",
        "# Separate target\n",
        "target = df['medv']\n",
        "features = df.drop(['medv'], axis=1)\n",
        "\n",
        "# Option 1: Normalize (Min-Max Scaling)\n",
        "minmax_scaler = MinMaxScaler()\n",
        "features_normalized = pd.DataFrame(minmax_scaler.fit_transform(features), columns=features.columns)\n",
        "\n",
        "# Option 2: Standardize (Z-score Scaling)\n",
        "standard_scaler = StandardScaler()\n",
        "features_standardized = pd.DataFrame(standard_scaler.fit_transform(features), columns=features.columns)\n",
        "\n",
        "# Combine with target (optional)\n",
        "df_normalized = features_normalized.copy()\n",
        "df_normalized['medv'] = target.reset_index(drop=True)\n",
        "\n",
        "df_standardized = features_standardized.copy()\n",
        "df_standardized['medv'] = target.reset_index(drop=True)\n",
        "\n",
        "print(\"\\n--- Step 5: Normalized & Standardized Data Preview ---\")\n",
        "print(\"Normalized:\")\n",
        "print(df_normalized.head())\n",
        "print(\"\\nStandardized:\")\n",
        "print(df_standardized.head())\n"
      ],
      "metadata": {
        "colab": {
          "base_uri": "https://localhost:8080/"
        },
        "id": "NfxVqcHo0tHi",
        "outputId": "fc171025-21a1-4326-f5e7-a8d20ebba3b0"
      },
      "execution_count": 24,
      "outputs": [
        {
          "output_type": "stream",
          "name": "stdout",
          "text": [
            "\n",
            "--- Step 1: Original Dataset Info ---\n",
            "<class 'pandas.core.frame.DataFrame'>\n",
            "RangeIndex: 506 entries, 0 to 505\n",
            "Data columns (total 14 columns):\n",
            " #   Column   Non-Null Count  Dtype  \n",
            "---  ------   --------------  -----  \n",
            " 0   crim     506 non-null    float64\n",
            " 1   zn       506 non-null    float64\n",
            " 2   indus    506 non-null    float64\n",
            " 3   chas     506 non-null    int64  \n",
            " 4   nox      506 non-null    float64\n",
            " 5   rm       506 non-null    float64\n",
            " 6   age      506 non-null    float64\n",
            " 7   dis      506 non-null    float64\n",
            " 8   rad      506 non-null    int64  \n",
            " 9   tax      506 non-null    int64  \n",
            " 10  ptratio  506 non-null    float64\n",
            " 11  b        506 non-null    float64\n",
            " 12  lstat    506 non-null    float64\n",
            " 13  medv     506 non-null    float64\n",
            "dtypes: float64(11), int64(3)\n",
            "memory usage: 55.5 KB\n",
            "None\n",
            "\n",
            "--- Step 2: Checking Missing Values ---\n",
            "crim       0\n",
            "zn         0\n",
            "indus      0\n",
            "chas       0\n",
            "nox        0\n",
            "rm         0\n",
            "age        0\n",
            "dis        0\n",
            "rad        0\n",
            "tax        0\n",
            "ptratio    0\n",
            "b          0\n",
            "lstat      0\n",
            "medv       0\n",
            "dtype: int64\n",
            "\n",
            "--- Step 3: Dataset shape after removing outliers: (268, 14) ---\n",
            "\n",
            "--- Step 4: Categorical Encoding Done ---\n",
            "      crim    zn  indus  chas    nox     rm   age     dis  tax  ptratio  ...  \\\n",
            "0  0.00632  18.0   2.31     0  0.538  6.575  65.2  4.0900  296     15.3  ...   \n",
            "1  0.02731   0.0   7.07     0  0.469  6.421  78.9  4.9671  242     17.8  ...   \n",
            "2  0.02729   0.0   7.07     0  0.469  7.185  61.1  4.9671  242     17.8  ...   \n",
            "3  0.03237   0.0   2.18     0  0.458  6.998  45.8  6.0622  222     18.7  ...   \n",
            "4  0.06905   0.0   2.18     0  0.458  7.147  54.2  6.0622  222     18.7  ...   \n",
            "\n",
            "   rad_encoded  rad_1  rad_2  rad_24  rad_3  rad_4  rad_5  rad_6  rad_7  rad_8  \n",
            "0            0   True  False   False  False  False  False  False  False  False  \n",
            "1            1  False   True   False  False  False  False  False  False  False  \n",
            "2            1  False   True   False  False  False  False  False  False  False  \n",
            "3            3  False  False   False   True  False  False  False  False  False  \n",
            "4            3  False  False   False   True  False  False  False  False  False  \n",
            "\n",
            "[5 rows x 23 columns]\n",
            "\n",
            "--- Step 5: Normalized & Standardized Data Preview ---\n",
            "Normalized:\n",
            "       crim   zn     indus  chas       nox        rm       age       dis  \\\n",
            "0  0.000000  0.6  0.035281   0.0  0.279221  0.665340  0.641607  0.348369   \n",
            "1  0.002410  0.0  0.215857   0.0  0.129870  0.604059  0.782698  0.459718   \n",
            "2  0.002407  0.0  0.215857   0.0  0.129870  0.908078  0.599382  0.459718   \n",
            "3  0.002991  0.0  0.030349   0.0  0.106061  0.833665  0.441813  0.598743   \n",
            "4  0.007202  0.0  0.030349   0.0  0.106061  0.892957  0.528321  0.598743   \n",
            "\n",
            "        tax   ptratio  ...  rad_1  rad_2  rad_24  rad_3  rad_4  rad_5  rad_6  \\\n",
            "0  0.206501  0.092308  ...    1.0    0.0     0.0    0.0    0.0    0.0    0.0   \n",
            "1  0.103250  0.476923  ...    0.0    1.0     0.0    0.0    0.0    0.0    0.0   \n",
            "2  0.103250  0.476923  ...    0.0    1.0     0.0    0.0    0.0    0.0    0.0   \n",
            "3  0.065010  0.615385  ...    0.0    0.0     0.0    1.0    0.0    0.0    0.0   \n",
            "4  0.065010  0.615385  ...    0.0    0.0     0.0    1.0    0.0    0.0    0.0   \n",
            "\n",
            "   rad_7  rad_8  medv  \n",
            "0    0.0    0.0  24.0  \n",
            "1    0.0    0.0  21.6  \n",
            "2    0.0    0.0  34.7  \n",
            "3    0.0    0.0  33.4  \n",
            "4    0.0    0.0  36.2  \n",
            "\n",
            "[5 rows x 23 columns]\n",
            "\n",
            "Standardized:\n",
            "       crim        zn     indus  chas       nox        rm       age       dis  \\\n",
            "0 -0.519022  1.621250 -1.318960   0.0  0.040417  0.956553 -0.031447  0.044325   \n",
            "1 -0.508299 -0.454638 -0.567514   0.0 -0.671319  0.595405  0.482170  0.540996   \n",
            "2 -0.508309 -0.454638 -0.567514   0.0 -0.671319  2.387073 -0.185157  0.540996   \n",
            "3 -0.505714 -0.454638 -1.339483   0.0 -0.784785  1.948536 -0.758758  1.161112   \n",
            "4 -0.486974 -0.454638 -1.339483   0.0 -0.784785  2.297959 -0.443840  1.161112   \n",
            "\n",
            "        tax   ptratio  ...     rad_1     rad_2    rad_24     rad_3     rad_4  \\\n",
            "0 -0.472786 -2.004403  ...  6.106203 -0.251976 -0.387575 -0.327777 -0.634934   \n",
            "1 -0.858260 -0.573754  ... -0.163768  3.968627 -0.387575 -0.327777 -0.634934   \n",
            "2 -0.858260 -0.573754  ... -0.163768  3.968627 -0.387575 -0.327777 -0.634934   \n",
            "3 -1.001028 -0.058721  ... -0.163768 -0.251976 -0.387575  3.050851 -0.634934   \n",
            "4 -1.001028 -0.058721  ... -0.163768 -0.251976 -0.387575  3.050851 -0.634934   \n",
            "\n",
            "      rad_5    rad_6     rad_7     rad_8  medv  \n",
            "0 -0.554362 -0.29905 -0.186411 -0.225788  24.0  \n",
            "1 -0.554362 -0.29905 -0.186411 -0.225788  21.6  \n",
            "2 -0.554362 -0.29905 -0.186411 -0.225788  34.7  \n",
            "3 -0.554362 -0.29905 -0.186411 -0.225788  33.4  \n",
            "4 -0.554362 -0.29905 -0.186411 -0.225788  36.2  \n",
            "\n",
            "[5 rows x 23 columns]\n"
          ]
        }
      ]
    }
  ]
}